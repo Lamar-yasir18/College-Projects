{
 "cells": [
  {
   "cell_type": "markdown",
   "id": "e9928397-7388-4509-89bf-53b88c9c972a",
   "metadata": {},
   "source": [
    "# Data Science Tools and Ecosystem"
   ]
  },
  {
   "cell_type": "markdown",
   "id": "3560fb8f-6c19-4531-a5e7-a3e05780092e",
   "metadata": {},
   "source": [
    "*In this notebook, Data Science Tools and Ecosystem are summarized.*"
   ]
  },
  {
   "cell_type": "markdown",
   "id": "0c0abd52-e467-4c95-a9a9-a6985b51d856",
   "metadata": {},
   "source": [
    "**Objectives:** \n",
    "* list popular languages for Data Science\n",
    "* list libraries used by Data Scientists\n",
    "* list data science tools"
   ]
  },
  {
   "cell_type": "markdown",
   "id": "d655f629-fdf2-4118-aa3e-e5c4a20a292e",
   "metadata": {},
   "source": [
    "## Some of the popular languages that Data Scientists use are:"
   ]
  },
  {
   "cell_type": "markdown",
   "id": "0220fafc-2d84-43f1-87a4-a36eaefe426a",
   "metadata": {},
   "source": [
    "1. java\n",
    "2. python\n",
    "3. c"
   ]
  },
  {
   "cell_type": "markdown",
   "id": "d0773410-a0c0-4919-bdc5-2dccbd86b37c",
   "metadata": {},
   "source": [
    "_Some of the commonly used libraries used by Data Scientists include:_\n",
    "1. pandas\n",
    "2. Matplotlib\n",
    "3. NumPy"
   ]
  },
  {
   "cell_type": "markdown",
   "id": "c82c5ff4-898f-449f-86bc-f838fb6e1c62",
   "metadata": {},
   "source": [
    "| Data Science Tools |\n",
    "| ------------------ |\n",
    "| Jupyter Notebook |\n",
    "| PyCharm |\n",
    "|Visual Studio Code (VS Code) |\n"
   ]
  },
  {
   "cell_type": "markdown",
   "id": "a1dd91ba-c977-47fc-806f-f4dfb4e74b91",
   "metadata": {},
   "source": [
    "### Below are a few examples of evaluating arithmetic expressions in Python"
   ]
  },
  {
   "cell_type": "code",
   "execution_count": 1,
   "id": "e520a245-d8e4-4ea7-a553-0605f479e843",
   "metadata": {
    "tags": []
   },
   "outputs": [
    {
     "data": {
      "text/plain": [
       "17"
      ]
     },
     "execution_count": 1,
     "metadata": {},
     "output_type": "execute_result"
    }
   ],
   "source": [
    "# This a simple arithmetic expression to mutiply then add integers\n",
    "(3*4)+5\n"
   ]
  },
  {
   "cell_type": "code",
   "execution_count": 4,
   "id": "e0db5708-3b03-4c2e-82b9-e902a0e55015",
   "metadata": {
    "tags": []
   },
   "outputs": [
    {
     "data": {
      "text/plain": [
       "3.3333333333333335"
      ]
     },
     "execution_count": 4,
     "metadata": {},
     "output_type": "execute_result"
    }
   ],
   "source": [
    "# this will convert 200 minutes to hours by diving by 60\n",
    "(200 / 60)"
   ]
  },
  {
   "cell_type": "markdown",
   "id": "064783aa-efc3-493e-94ef-ae8b5037327f",
   "metadata": {},
   "source": [
    "## Author\n",
    "Lamar yasir"
   ]
  },
  {
   "cell_type": "code",
   "execution_count": null,
   "id": "d3f65390-4513-4c51-a09d-88ded5f8cdab",
   "metadata": {},
   "outputs": [],
   "source": []
  }
 ],
 "metadata": {
  "kernelspec": {
   "display_name": "Python",
   "language": "python",
   "name": "conda-env-python-py"
  },
  "language_info": {
   "codemirror_mode": {
    "name": "ipython",
    "version": 3
   },
   "file_extension": ".py",
   "mimetype": "text/x-python",
   "name": "python",
   "nbconvert_exporter": "python",
   "pygments_lexer": "ipython3",
   "version": "3.7.12"
  }
 },
 "nbformat": 4,
 "nbformat_minor": 5
}
